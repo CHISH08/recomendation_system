{
 "cells": [
  {
   "cell_type": "code",
   "execution_count": 14,
   "metadata": {},
   "outputs": [],
   "source": [
    "import pandas as pd\n",
    "import ast"
   ]
  },
  {
   "cell_type": "code",
   "execution_count": 17,
   "metadata": {},
   "outputs": [],
   "source": [
    "def print_name_cashback(users_name):\n",
    "    dat = pd.read_csv('../../data/bd.csv').set_index('Name').loc[users_name]\n",
    "    col = [item for sublist in pd.read_csv('../../data/category.csv', index_col='Unnamed: 0').values for item in sublist]\n",
    "    value = ast.literal_eval(dat.iloc[0])\n",
    "    sorted_indices = sorted(range(len(value)), key=lambda i: value[i], reverse=True)[:3]\n",
    "\n",
    "    result = [col[i] for i in sorted_indices]\n",
    "    return result[0], result[1], result[2]"
   ]
  },
  {
   "cell_type": "code",
   "execution_count": 18,
   "metadata": {},
   "outputs": [
    {
     "data": {
      "text/plain": [
       "('Charity', 'Крупная бытовая техника', 'Продукты питания')"
      ]
     },
     "execution_count": 18,
     "metadata": {},
     "output_type": "execute_result"
    }
   ],
   "source": [
    "print_name_cashback('Абакелия Мукас Робертовна')"
   ]
  },
  {
   "cell_type": "code",
   "execution_count": 20,
   "metadata": {},
   "outputs": [],
   "source": [
    "def print_values_for_diagram(users_name):\n",
    "    dat = pd.read_csv('../../data/bd.csv').set_index('Name').loc[users_name]\n",
    "    col = [item for sublist in pd.read_csv('../../data/category.csv', index_col='Unnamed: 0').values for item in sublist]\n",
    "    value = ast.literal_eval(dat.iloc[1])\n",
    "    return value, col"
   ]
  },
  {
   "cell_type": "code",
   "execution_count": 21,
   "metadata": {},
   "outputs": [
    {
     "data": {
      "text/plain": [
       "([6, 0, 1, 0, 0, 0, 0, 2, 0, 0, 2, 0, 1, 0, 9, 4, 0, 0, 0, 0, 0, 0, 5, 0],\n",
       " ['Свежие продукты питания',\n",
       "  'Ювелирные изделия',\n",
       "  'Товары для дома',\n",
       "  'Entertainment certificates',\n",
       "  'Charity',\n",
       "  'Автотовары',\n",
       "  'Крупная бытовая техника',\n",
       "  'Товары для животных',\n",
       "  'DIY',\n",
       "  'NewBorn',\n",
       "  'Аксессуары для электроники',\n",
       "  'Мебель',\n",
       "  'Смартфоны и планшеты',\n",
       "  'Компьютеры и ноутбуки',\n",
       "  'Товары для мам и детей',\n",
       "  'Одежда',\n",
       "  'Товары повседневного спроса',\n",
       "  'Продукты питания',\n",
       "  'Малая бытовая техника',\n",
       "  'Книги',\n",
       "  'ТВ и аудио',\n",
       "  'Аптека',\n",
       "  'Спорт и отдых',\n",
       "  'Красота и здоровье'])"
      ]
     },
     "execution_count": 21,
     "metadata": {},
     "output_type": "execute_result"
    }
   ],
   "source": [
    "print_values_for_diagram('Абакелия Мукас Робертовна')"
   ]
  }
 ],
 "metadata": {
  "kernelspec": {
   "display_name": "Python 3",
   "language": "python",
   "name": "python3"
  },
  "language_info": {
   "codemirror_mode": {
    "name": "ipython",
    "version": 3
   },
   "file_extension": ".py",
   "mimetype": "text/x-python",
   "name": "python",
   "nbconvert_exporter": "python",
   "pygments_lexer": "ipython3",
   "version": "3.10.12"
  },
  "orig_nbformat": 4
 },
 "nbformat": 4,
 "nbformat_minor": 2
}

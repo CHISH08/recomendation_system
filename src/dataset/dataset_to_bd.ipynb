{
 "cells": [
  {
   "cell_type": "code",
   "execution_count": 1,
   "metadata": {},
   "outputs": [],
   "source": [
    "import pandas as pd"
   ]
  },
  {
   "cell_type": "code",
   "execution_count": 5,
   "metadata": {},
   "outputs": [],
   "source": [
    "bd = pd.read_csv('data/final_dataset.csv', index_col='id')"
   ]
  },
  {
   "cell_type": "code",
   "execution_count": 13,
   "metadata": {},
   "outputs": [
    {
     "data": {
      "text/plain": [
       "array([[11.73837668,  9.36609743,  8.53320976, ...,  7.37310628,\n",
       "         6.98291571,  8.50501861],\n",
       "       [11.14965968,  8.48235694,  8.39667985, ...,  7.08826035,\n",
       "         7.3035332 ,  7.653311  ],\n",
       "       [12.29529043, 10.05594961,  7.70921527, ...,  7.6793801 ,\n",
       "         7.05580474,  8.22644193],\n",
       "       ...,\n",
       "       [11.78724357,  8.49390867,  7.82551214, ...,  7.17598361,\n",
       "         6.83763877,  7.98825069],\n",
       "       [11.16999638,  8.88673782,  7.63517898, ...,  7.7377267 ,\n",
       "         6.95816183,  7.75278944],\n",
       "       [ 0.12678057,  0.1942281 ,  0.1459278 , ...,  0.23032355,\n",
       "         0.2710979 ,  0.22243273]])"
      ]
     },
     "execution_count": 13,
     "metadata": {},
     "output_type": "execute_result"
    }
   ],
   "source": [
    "bd.iloc[:, 1:25].values"
   ]
  },
  {
   "cell_type": "code",
   "execution_count": 15,
   "metadata": {},
   "outputs": [],
   "source": [
    "bd['ValueForCachbak'] = bd.iloc[:, 1:25].apply(list, axis=1)"
   ]
  },
  {
   "cell_type": "code",
   "execution_count": 26,
   "metadata": {},
   "outputs": [],
   "source": [
    "bd['ValueForStatistic'] = bd.iloc[:, 25:-7].apply(list, axis=1)"
   ]
  },
  {
   "cell_type": "code",
   "execution_count": 32,
   "metadata": {},
   "outputs": [],
   "source": [
    "col = bd.columns[1:25]"
   ]
  },
  {
   "cell_type": "code",
   "execution_count": 33,
   "metadata": {},
   "outputs": [
    {
     "data": {
      "text/plain": [
       "Index(['Свежие продукты питания', 'Ювелирные изделия', 'Товары для дома',\n",
       "       'Entertainment certificates', 'Charity', 'Автотовары',\n",
       "       'Крупная бытовая техника', 'Товары для животных', 'DIY', 'NewBorn',\n",
       "       'Аксессуары для электроники', 'Мебель', 'Смартфоны и планшеты',\n",
       "       'Компьютеры и ноутбуки', 'Товары для мам и детей', 'Одежда',\n",
       "       'Товары повседневного спроса', 'Продукты питания',\n",
       "       'Малая бытовая техника', 'Книги', 'ТВ и аудио', 'Аптека',\n",
       "       'Спорт и отдых', 'Красота и здоровье'],\n",
       "      dtype='object')"
      ]
     },
     "execution_count": 33,
     "metadata": {},
     "output_type": "execute_result"
    }
   ],
   "source": [
    "col"
   ]
  },
  {
   "cell_type": "code",
   "execution_count": 36,
   "metadata": {},
   "outputs": [],
   "source": [
    "dat = bd.iloc[:, [0, 54, 55, 52]]"
   ]
  },
  {
   "cell_type": "code",
   "execution_count": 48,
   "metadata": {},
   "outputs": [],
   "source": [
    "df = pd.DataFrame({'NameOfCategory': col})\n",
    "\n",
    "# Преобразование списка в строки\n",
    "# df_exploded = df.explode('NameOfCategory', ignore_index=True)\n",
    "\n",
    "# Вывод DataFrame после преобразования\n",
    "df_exploded.to_csv('data/category.csv')"
   ]
  },
  {
   "cell_type": "code",
   "execution_count": 43,
   "metadata": {},
   "outputs": [],
   "source": [
    "dat.set_index('Name').to_csv('data/bd.csv')"
   ]
  },
  {
   "cell_type": "code",
   "execution_count": 25,
   "metadata": {},
   "outputs": [
    {
     "data": {
      "text/html": [
       "<div>\n",
       "<style scoped>\n",
       "    .dataframe tbody tr th:only-of-type {\n",
       "        vertical-align: middle;\n",
       "    }\n",
       "\n",
       "    .dataframe tbody tr th {\n",
       "        vertical-align: top;\n",
       "    }\n",
       "\n",
       "    .dataframe thead th {\n",
       "        text-align: right;\n",
       "    }\n",
       "</style>\n",
       "<table border=\"1\" class=\"dataframe\">\n",
       "  <thead>\n",
       "    <tr style=\"text-align: right;\">\n",
       "      <th></th>\n",
       "      <th>Name</th>\n",
       "      <th>Answer</th>\n",
       "      <th>Price</th>\n",
       "      <th>date</th>\n",
       "    </tr>\n",
       "  </thead>\n",
       "  <tbody>\n",
       "    <tr>\n",
       "      <th>0</th>\n",
       "      <td>Абакелия Мукас Робертовна</td>\n",
       "      <td>Illusion</td>\n",
       "      <td>599</td>\n",
       "      <td>01.01.2023 06:27:26</td>\n",
       "    </tr>\n",
       "    <tr>\n",
       "      <th>1</th>\n",
       "      <td>Абакелия Мукас Робертовна</td>\n",
       "      <td>New joe and mac caveman ninja</td>\n",
       "      <td>349</td>\n",
       "      <td>03.01.2023 08:22:32</td>\n",
       "    </tr>\n",
       "    <tr>\n",
       "      <th>2</th>\n",
       "      <td>Абакелия Мукас Робертовна</td>\n",
       "      <td>Next up hero</td>\n",
       "      <td>289</td>\n",
       "      <td>03.01.2023 14:33:37</td>\n",
       "    </tr>\n",
       "    <tr>\n",
       "      <th>3</th>\n",
       "      <td>Абакелия Мукас Робертовна</td>\n",
       "      <td>Rogue legacy 2</td>\n",
       "      <td>360</td>\n",
       "      <td>05.01.2023 18:05:14</td>\n",
       "    </tr>\n",
       "    <tr>\n",
       "      <th>4</th>\n",
       "      <td>Абакелия Мукас Робертовна</td>\n",
       "      <td>Ted-эффект. как провести визуальную презентаци...</td>\n",
       "      <td>498</td>\n",
       "      <td>05.01.2023 05:32:15</td>\n",
       "    </tr>\n",
       "    <tr>\n",
       "      <th>...</th>\n",
       "      <td>...</td>\n",
       "      <td>...</td>\n",
       "      <td>...</td>\n",
       "      <td>...</td>\n",
       "    </tr>\n",
       "    <tr>\n",
       "      <th>298785</th>\n",
       "      <td>Яшкова Надежда Алексеевна</td>\n",
       "      <td>Чай черный richard royal ceylon крупнолистовой...</td>\n",
       "      <td>299</td>\n",
       "      <td>05.01.2023 17:24:05</td>\n",
       "    </tr>\n",
       "    <tr>\n",
       "      <th>298786</th>\n",
       "      <td>Яшкова Надежда Алексеевна</td>\n",
       "      <td>Чулки женские omsa malizia полиамид daino беже...</td>\n",
       "      <td>599</td>\n",
       "      <td>03.01.2023 20:18:41</td>\n",
       "    </tr>\n",
       "    <tr>\n",
       "      <th>298787</th>\n",
       "      <td>Яшкова Надежда Алексеевна</td>\n",
       "      <td>Швабра master fresh для пола с роликовым отжим...</td>\n",
       "      <td>119</td>\n",
       "      <td>06.01.2023 01:11:30</td>\n",
       "    </tr>\n",
       "    <tr>\n",
       "      <th>298788</th>\n",
       "      <td>Яшкова Надежда Алексеевна</td>\n",
       "      <td>Шоколад milka молочный с печеньем орео и ванил...</td>\n",
       "      <td>69</td>\n",
       "      <td>05.01.2023 03:19:02</td>\n",
       "    </tr>\n",
       "    <tr>\n",
       "      <th>298789</th>\n",
       "      <td>Яшкова Надежда Алексеевна</td>\n",
       "      <td>Шоколадные конфеты красный октябрь вдохновение...</td>\n",
       "      <td>349</td>\n",
       "      <td>01.01.2023 10:35:56</td>\n",
       "    </tr>\n",
       "  </tbody>\n",
       "</table>\n",
       "<p>298790 rows × 4 columns</p>\n",
       "</div>"
      ],
      "text/plain": [
       "                             Name  \\\n",
       "0       Абакелия Мукас Робертовна   \n",
       "1       Абакелия Мукас Робертовна   \n",
       "2       Абакелия Мукас Робертовна   \n",
       "3       Абакелия Мукас Робертовна   \n",
       "4       Абакелия Мукас Робертовна   \n",
       "...                           ...   \n",
       "298785  Яшкова Надежда Алексеевна   \n",
       "298786  Яшкова Надежда Алексеевна   \n",
       "298787  Яшкова Надежда Алексеевна   \n",
       "298788  Яшкова Надежда Алексеевна   \n",
       "298789  Яшкова Надежда Алексеевна   \n",
       "\n",
       "                                                   Answer  Price  \\\n",
       "0                                                Illusion    599   \n",
       "1                           New joe and mac caveman ninja    349   \n",
       "2                                            Next up hero    289   \n",
       "3                                          Rogue legacy 2    360   \n",
       "4       Ted-эффект. как провести визуальную презентаци...    498   \n",
       "...                                                   ...    ...   \n",
       "298785  Чай черный richard royal ceylon крупнолистовой...    299   \n",
       "298786  Чулки женские omsa malizia полиамид daino беже...    599   \n",
       "298787  Швабра master fresh для пола с роликовым отжим...    119   \n",
       "298788  Шоколад milka молочный с печеньем орео и ванил...     69   \n",
       "298789  Шоколадные конфеты красный октябрь вдохновение...    349   \n",
       "\n",
       "                       date  \n",
       "0       01.01.2023 06:27:26  \n",
       "1       03.01.2023 08:22:32  \n",
       "2       03.01.2023 14:33:37  \n",
       "3       05.01.2023 18:05:14  \n",
       "4       05.01.2023 05:32:15  \n",
       "...                     ...  \n",
       "298785  05.01.2023 17:24:05  \n",
       "298786  03.01.2023 20:18:41  \n",
       "298787  06.01.2023 01:11:30  \n",
       "298788  05.01.2023 03:19:02  \n",
       "298789  01.01.2023 10:35:56  \n",
       "\n",
       "[298790 rows x 4 columns]"
      ]
     },
     "execution_count": 25,
     "metadata": {},
     "output_type": "execute_result"
    }
   ],
   "source": [
    "import random\n",
    "import datetime\n",
    "\n",
    "def generate_random_date(index):\n",
    "    start_date = datetime.datetime(2023, 1, 1)\n",
    "    random_seconds = random.randint(0, 604800) # 7 days in seconds\n",
    "    random_date = start_date + datetime.timedelta(seconds=random_seconds) \n",
    "    return random_date.strftime(\"%d.%m.%Y %H:%M:%S\")\n",
    "data['date'] = [generate_random_date(i) for i in range(len(data))]\n",
    "data"
   ]
  },
  {
   "cell_type": "code",
   "execution_count": null,
   "metadata": {},
   "outputs": [],
   "source": [
    "data.to_sql('data/')"
   ]
  }
 ],
 "metadata": {
  "kernelspec": {
   "display_name": "Python 3",
   "language": "python",
   "name": "python3"
  },
  "language_info": {
   "codemirror_mode": {
    "name": "ipython",
    "version": 3
   },
   "file_extension": ".py",
   "mimetype": "text/x-python",
   "name": "python",
   "nbconvert_exporter": "python",
   "pygments_lexer": "ipython3",
   "version": "3.10.12"
  },
  "orig_nbformat": 4
 },
 "nbformat": 4,
 "nbformat_minor": 2
}

{
 "cells": [
  {
   "cell_type": "code",
   "execution_count": 1,
   "metadata": {},
   "outputs": [],
   "source": [
    "import multiprocessing\n",
    "import pymorphy2\n",
    "import re\n",
    "from nltk.corpus import stopwords\n",
    "from gensim.models import Word2Vec\n",
    "from nltk.tokenize import word_tokenize\n",
    "import numpy as np\n",
    "import pandas as pd"
   ]
  },
  {
   "cell_type": "code",
   "execution_count": 2,
   "metadata": {},
   "outputs": [],
   "source": [
    "morph = pymorphy2.MorphAnalyzer()\n",
    "\n",
    "# Загрузка стоп-слов заранее, чтобы не загружать их при каждом вызове функции\n",
    "stop_words = set(stopwords.words('russian'))\n",
    "\n",
    "def preprocess_text(text):\n",
    "    text = re.sub(r'\\b\\d+\\b', '', text)\n",
    "    text = re.sub(r'[^a-zA-Zа-яА-Я0-9]', ' ', text)\n",
    "    text = re.sub(r'<[^>]+>', '', text)\n",
    "    # Приведение текста к нижнему регистру\n",
    "    text = text.lower()\n",
    "    \n",
    "    # Токенизация текста\n",
    "    tokens = word_tokenize(text)\n",
    "    \n",
    "    preprocessed_text = [morph.parse(word)[0].normal_form for word in tokens if word not in stop_words]\n",
    "    \n",
    "    return preprocessed_text"
   ]
  },
  {
   "cell_type": "code",
   "execution_count": 3,
   "metadata": {},
   "outputs": [],
   "source": [
    "api_pool = {'Answer': 'Мужская обувь Nike', 'Company_id': 3982023139,\t'Price': 30000,\t'Name': 'Василий Александрович Пупкин'}"
   ]
  },
  {
   "cell_type": "code",
   "execution_count": 4,
   "metadata": {},
   "outputs": [],
   "source": [
    "api_pool_text = preprocess_text(api_pool['Answer'])"
   ]
  },
  {
   "cell_type": "code",
   "execution_count": 5,
   "metadata": {},
   "outputs": [
    {
     "data": {
      "text/plain": [
       "['мужской', 'обувь', 'nike']"
      ]
     },
     "execution_count": 5,
     "metadata": {},
     "output_type": "execute_result"
    }
   ],
   "source": [
    "api_pool_text"
   ]
  },
  {
   "cell_type": "code",
   "execution_count": 6,
   "metadata": {},
   "outputs": [
    {
     "data": {
      "text/plain": [
       "(5, 16)"
      ]
     },
     "execution_count": 6,
     "metadata": {},
     "output_type": "execute_result"
    }
   ],
   "source": [
    "model = Word2Vec.load('word2vec')\n",
    "model.build_vocab([api_pool_text], update=True)\n",
    "model.alpha = 0.01\n",
    "model.train(api_pool_text, total_examples=model.corpus_count, epochs=1)"
   ]
  },
  {
   "cell_type": "code",
   "execution_count": 8,
   "metadata": {},
   "outputs": [],
   "source": [
    "data = pd.read_csv('data/final_dataset.csv', index_col='Unnamed: 0')"
   ]
  },
  {
   "cell_type": "code",
   "execution_count": 9,
   "metadata": {},
   "outputs": [],
   "source": [
    "col = data.columns[0:24]"
   ]
  },
  {
   "cell_type": "code",
   "execution_count": 10,
   "metadata": {},
   "outputs": [],
   "source": [
    "real_col = data.columns[24:-5]"
   ]
  },
  {
   "cell_type": "code",
   "execution_count": 11,
   "metadata": {},
   "outputs": [],
   "source": [
    "if api_pool['Name'] not in data.index:\n",
    "    new_dict = {api_pool['Company_id']: api_pool['Price']}\n",
    "    new_row = pd.DataFrame({'PriceToCompany': [new_dict]}, index=[api_pool['Name']])\n",
    "    new_row = new_row.reindex(columns=data.columns, fill_value=0)\n",
    "    data = pd.concat([data, new_row])\n",
    "else:\n",
    "    if api_pool['Company_id'] not in data.loc[api_pool['Name']]['PriceToCompany']:\n",
    "        data.loc[api_pool['Name']]['PriceToCompany'][api_pool['Company_id']] = api_pool['Price']\n",
    "    else:\n",
    "        data.loc[api_pool['Name']]['PriceToCompany'][api_pool['Company_id']] += api_pool['Price']"
   ]
  },
  {
   "cell_type": "code",
   "execution_count": 12,
   "metadata": {},
   "outputs": [],
   "source": [
    "answer_vectors = [model.wv[word] for word in api_pool_text]\n",
    "max_inds = col[np.argsort(-data.loc[api_pool['Name'], col])[:3]]\n",
    "for cl in col:\n",
    "    res = np.mean(np.maximum(model.wv.cosine_similarities(model.wv[cl], answer_vectors), 0))\n",
    "    data.loc[api_pool['Name'], cl] += res\n",
    "data.loc[api_pool['Name'], real_col] = 0\n",
    "data.loc[api_pool['Name'],max_inds[0]+'_real'] = 1\n",
    "data.loc[api_pool['Name'], 'max1_col'] = max_inds[0]\n",
    "data.loc[api_pool['Name'], 'max2_col'] = max_inds[1]\n",
    "data.loc[api_pool['Name'], 'max3_col'] = max_inds[2]"
   ]
  },
  {
   "cell_type": "code",
   "execution_count": 15,
   "metadata": {},
   "outputs": [],
   "source": [
    "data.to_csv('data/final_dataset.csv')\n",
    "model.save('word2vec')"
   ]
  }
 ],
 "metadata": {
  "kernelspec": {
   "display_name": "Python 3",
   "language": "python",
   "name": "python3"
  },
  "language_info": {
   "codemirror_mode": {
    "name": "ipython",
    "version": 3
   },
   "file_extension": ".py",
   "mimetype": "text/x-python",
   "name": "python",
   "nbconvert_exporter": "python",
   "pygments_lexer": "ipython3",
   "version": "3.10.12"
  },
  "orig_nbformat": 4
 },
 "nbformat": 4,
 "nbformat_minor": 2
}

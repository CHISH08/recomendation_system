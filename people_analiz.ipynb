{
 "cells": [
  {
   "cell_type": "code",
   "execution_count": 7,
   "metadata": {},
   "outputs": [],
   "source": [
    "import pandas as pd\n",
    "import plotly.express as px\n",
    "import ipywidgets as widgets"
   ]
  },
  {
   "cell_type": "code",
   "execution_count": 10,
   "metadata": {},
   "outputs": [],
   "source": [
    "data = pd.read_csv('data/final_dataset.csv')"
   ]
  },
  {
   "cell_type": "code",
   "execution_count": 15,
   "metadata": {},
   "outputs": [],
   "source": [
    "data.to_csv('data/final_dataset.csv')"
   ]
  },
  {
   "cell_type": "code",
   "execution_count": null,
   "metadata": {},
   "outputs": [],
   "source": [
    "data = pd.read_csv('data.csv')\n",
    "\n",
    "# Создаем функцию для построения диаграммы\n",
    "def plot_diagram(column_name):\n",
    "    plt.figure(figsize=(10, 6))\n",
    "    plt.title(f'Diagram for column {column_name}')\n",
    "    data[column_name].value_counts().plot(kind='bar')\n",
    "    plt.show()\n",
    "\n",
    "# Создаем виджет для ввода имени колонки\n",
    "column_name_widget = widgets.Text(\n",
    "    value='',\n",
    "    description='Enter column name:',\n",
    "    disabled=False\n",
    ")\n",
    "\n",
    "# Создаем кнопку для построения диаграммы\n",
    "button = widgets.Button(description='Plot diagram')\n",
    "\n",
    "# Создаем функцию-обработчик для кнопки\n",
    "def on_button_clicked(b):\n",
    "    plot_diagram(column_name_widget.value)\n",
    "\n",
    "# Привязываем функцию-обработчик к кнопке\n",
    "button.on_click(on_button_clicked)\n",
    "\n",
    "# Отображаем виджет и кнопку\n",
    "display(column_name_widget)\n",
    "display(button)"
   ]
  }
 ],
 "metadata": {
  "kernelspec": {
   "display_name": "Python 3",
   "language": "python",
   "name": "python3"
  },
  "language_info": {
   "codemirror_mode": {
    "name": "ipython",
    "version": 3
   },
   "file_extension": ".py",
   "mimetype": "text/x-python",
   "name": "python",
   "nbconvert_exporter": "python",
   "pygments_lexer": "ipython3",
   "version": "3.10.12"
  },
  "orig_nbformat": 4
 },
 "nbformat": 4,
 "nbformat_minor": 2
}

{
 "cells": [
  {
   "cell_type": "code",
   "execution_count": 1,
   "metadata": {},
   "outputs": [],
   "source": [
    "import pandas as pd\n",
    "import ipywidgets as widgets\n",
    "import plotly.graph_objects as go\n",
    "import numpy as np\n",
    "from IPython.display import clear_output, display"
   ]
  },
  {
   "cell_type": "code",
   "execution_count": 2,
   "metadata": {},
   "outputs": [],
   "source": [
    "data = pd.read_csv('data/final_dataset.csv',index_col='id')"
   ]
  },
  {
   "cell_type": "code",
   "execution_count": 3,
   "metadata": {},
   "outputs": [],
   "source": [
    "data = data.set_index('Name')"
   ]
  },
  {
   "cell_type": "markdown",
   "metadata": {},
   "source": [
    "Итерактивный график по покупкам пользователя(имя пользователя вводится через окошко, также можно убирать из списка категории, нажав на них снизу)"
   ]
  },
  {
   "cell_type": "code",
   "execution_count": 6,
   "metadata": {},
   "outputs": [
    {
     "data": {
      "application/vnd.jupyter.widget-view+json": {
       "model_id": "e76a022045874ddd953618aa6894c7d6",
       "version_major": 2,
       "version_minor": 0
      },
      "text/plain": [
       "Text(value='Абакелия Мукас Робертовна', description='Введите имя:')"
      ]
     },
     "metadata": {},
     "output_type": "display_data"
    },
    {
     "data": {
      "application/vnd.plotly.v1+json": {
       "config": {
        "plotlyServerURL": "https://plot.ly"
       },
       "data": [
        {
         "hole": 0.9,
         "labels": [
          "Свежие продукты питания",
          "Ювелирные изделия",
          "Товары для дома",
          "Entertainment certificates",
          "Charity",
          "Автотовары",
          "Крупная бытовая техника",
          "Товары для животных",
          "DIY",
          "NewBorn",
          "Аксессуары для электроники",
          "Мебель",
          "Смартфоны и планшеты",
          "Компьютеры и ноутбуки",
          "Товары для мам и детей",
          "Одежда",
          "Товары повседневного спроса",
          "Продукты питания",
          "Малая бытовая техника",
          "Книги",
          "ТВ и аудио",
          "Аптека",
          "Спорт и отдых",
          "Красота и здоровье"
         ],
         "pull": [
          0,
          0,
          0,
          0,
          0.25,
          0,
          0.15,
          0,
          0,
          0,
          0,
          0,
          0,
          0,
          0,
          0,
          0,
          0.1,
          0,
          0,
          0,
          0,
          0,
          0
         ],
         "sort": false,
         "type": "pie",
         "values": [
          11.738376677036284,
          9.366097427904606,
          8.533209763467312,
          11.434790171682836,
          12.63942351937294,
          8.117990836501122,
          12.52005699276924,
          7.2607989981770515,
          8.20282194018364,
          7.748003408312797,
          7.788224622607231,
          8.333665326237679,
          10.451379403471948,
          8.926042221486568,
          7.182072460651398,
          7.544563256204128,
          9.49200578033924,
          11.896472081542017,
          10.394851610064508,
          10.505953650921583,
          9.065236121416092,
          7.373106280341744,
          6.982915714383125,
          8.50501860678196
         ]
        }
       ],
       "layout": {
        "annotations": [
         {
          "font": {
           "size": 15
          },
          "showarrow": false,
          "text": "Статистика по пользователю Абакелия Мукас Робертовна",
          "x": 0.5,
          "y": 0.5
         }
        ],
        "height": 1000,
        "legend": {
         "orientation": "h"
        },
        "margin": {
         "b": 0,
         "l": 0,
         "r": 0,
         "t": 30
        },
        "template": {
         "data": {
          "bar": [
           {
            "error_x": {
             "color": "#2a3f5f"
            },
            "error_y": {
             "color": "#2a3f5f"
            },
            "marker": {
             "line": {
              "color": "#E5ECF6",
              "width": 0.5
             },
             "pattern": {
              "fillmode": "overlay",
              "size": 10,
              "solidity": 0.2
             }
            },
            "type": "bar"
           }
          ],
          "barpolar": [
           {
            "marker": {
             "line": {
              "color": "#E5ECF6",
              "width": 0.5
             },
             "pattern": {
              "fillmode": "overlay",
              "size": 10,
              "solidity": 0.2
             }
            },
            "type": "barpolar"
           }
          ],
          "carpet": [
           {
            "aaxis": {
             "endlinecolor": "#2a3f5f",
             "gridcolor": "white",
             "linecolor": "white",
             "minorgridcolor": "white",
             "startlinecolor": "#2a3f5f"
            },
            "baxis": {
             "endlinecolor": "#2a3f5f",
             "gridcolor": "white",
             "linecolor": "white",
             "minorgridcolor": "white",
             "startlinecolor": "#2a3f5f"
            },
            "type": "carpet"
           }
          ],
          "choropleth": [
           {
            "colorbar": {
             "outlinewidth": 0,
             "ticks": ""
            },
            "type": "choropleth"
           }
          ],
          "contour": [
           {
            "colorbar": {
             "outlinewidth": 0,
             "ticks": ""
            },
            "colorscale": [
             [
              0,
              "#0d0887"
             ],
             [
              0.1111111111111111,
              "#46039f"
             ],
             [
              0.2222222222222222,
              "#7201a8"
             ],
             [
              0.3333333333333333,
              "#9c179e"
             ],
             [
              0.4444444444444444,
              "#bd3786"
             ],
             [
              0.5555555555555556,
              "#d8576b"
             ],
             [
              0.6666666666666666,
              "#ed7953"
             ],
             [
              0.7777777777777778,
              "#fb9f3a"
             ],
             [
              0.8888888888888888,
              "#fdca26"
             ],
             [
              1,
              "#f0f921"
             ]
            ],
            "type": "contour"
           }
          ],
          "contourcarpet": [
           {
            "colorbar": {
             "outlinewidth": 0,
             "ticks": ""
            },
            "type": "contourcarpet"
           }
          ],
          "heatmap": [
           {
            "colorbar": {
             "outlinewidth": 0,
             "ticks": ""
            },
            "colorscale": [
             [
              0,
              "#0d0887"
             ],
             [
              0.1111111111111111,
              "#46039f"
             ],
             [
              0.2222222222222222,
              "#7201a8"
             ],
             [
              0.3333333333333333,
              "#9c179e"
             ],
             [
              0.4444444444444444,
              "#bd3786"
             ],
             [
              0.5555555555555556,
              "#d8576b"
             ],
             [
              0.6666666666666666,
              "#ed7953"
             ],
             [
              0.7777777777777778,
              "#fb9f3a"
             ],
             [
              0.8888888888888888,
              "#fdca26"
             ],
             [
              1,
              "#f0f921"
             ]
            ],
            "type": "heatmap"
           }
          ],
          "heatmapgl": [
           {
            "colorbar": {
             "outlinewidth": 0,
             "ticks": ""
            },
            "colorscale": [
             [
              0,
              "#0d0887"
             ],
             [
              0.1111111111111111,
              "#46039f"
             ],
             [
              0.2222222222222222,
              "#7201a8"
             ],
             [
              0.3333333333333333,
              "#9c179e"
             ],
             [
              0.4444444444444444,
              "#bd3786"
             ],
             [
              0.5555555555555556,
              "#d8576b"
             ],
             [
              0.6666666666666666,
              "#ed7953"
             ],
             [
              0.7777777777777778,
              "#fb9f3a"
             ],
             [
              0.8888888888888888,
              "#fdca26"
             ],
             [
              1,
              "#f0f921"
             ]
            ],
            "type": "heatmapgl"
           }
          ],
          "histogram": [
           {
            "marker": {
             "pattern": {
              "fillmode": "overlay",
              "size": 10,
              "solidity": 0.2
             }
            },
            "type": "histogram"
           }
          ],
          "histogram2d": [
           {
            "colorbar": {
             "outlinewidth": 0,
             "ticks": ""
            },
            "colorscale": [
             [
              0,
              "#0d0887"
             ],
             [
              0.1111111111111111,
              "#46039f"
             ],
             [
              0.2222222222222222,
              "#7201a8"
             ],
             [
              0.3333333333333333,
              "#9c179e"
             ],
             [
              0.4444444444444444,
              "#bd3786"
             ],
             [
              0.5555555555555556,
              "#d8576b"
             ],
             [
              0.6666666666666666,
              "#ed7953"
             ],
             [
              0.7777777777777778,
              "#fb9f3a"
             ],
             [
              0.8888888888888888,
              "#fdca26"
             ],
             [
              1,
              "#f0f921"
             ]
            ],
            "type": "histogram2d"
           }
          ],
          "histogram2dcontour": [
           {
            "colorbar": {
             "outlinewidth": 0,
             "ticks": ""
            },
            "colorscale": [
             [
              0,
              "#0d0887"
             ],
             [
              0.1111111111111111,
              "#46039f"
             ],
             [
              0.2222222222222222,
              "#7201a8"
             ],
             [
              0.3333333333333333,
              "#9c179e"
             ],
             [
              0.4444444444444444,
              "#bd3786"
             ],
             [
              0.5555555555555556,
              "#d8576b"
             ],
             [
              0.6666666666666666,
              "#ed7953"
             ],
             [
              0.7777777777777778,
              "#fb9f3a"
             ],
             [
              0.8888888888888888,
              "#fdca26"
             ],
             [
              1,
              "#f0f921"
             ]
            ],
            "type": "histogram2dcontour"
           }
          ],
          "mesh3d": [
           {
            "colorbar": {
             "outlinewidth": 0,
             "ticks": ""
            },
            "type": "mesh3d"
           }
          ],
          "parcoords": [
           {
            "line": {
             "colorbar": {
              "outlinewidth": 0,
              "ticks": ""
             }
            },
            "type": "parcoords"
           }
          ],
          "pie": [
           {
            "automargin": true,
            "type": "pie"
           }
          ],
          "scatter": [
           {
            "fillpattern": {
             "fillmode": "overlay",
             "size": 10,
             "solidity": 0.2
            },
            "type": "scatter"
           }
          ],
          "scatter3d": [
           {
            "line": {
             "colorbar": {
              "outlinewidth": 0,
              "ticks": ""
             }
            },
            "marker": {
             "colorbar": {
              "outlinewidth": 0,
              "ticks": ""
             }
            },
            "type": "scatter3d"
           }
          ],
          "scattercarpet": [
           {
            "marker": {
             "colorbar": {
              "outlinewidth": 0,
              "ticks": ""
             }
            },
            "type": "scattercarpet"
           }
          ],
          "scattergeo": [
           {
            "marker": {
             "colorbar": {
              "outlinewidth": 0,
              "ticks": ""
             }
            },
            "type": "scattergeo"
           }
          ],
          "scattergl": [
           {
            "marker": {
             "colorbar": {
              "outlinewidth": 0,
              "ticks": ""
             }
            },
            "type": "scattergl"
           }
          ],
          "scattermapbox": [
           {
            "marker": {
             "colorbar": {
              "outlinewidth": 0,
              "ticks": ""
             }
            },
            "type": "scattermapbox"
           }
          ],
          "scatterpolar": [
           {
            "marker": {
             "colorbar": {
              "outlinewidth": 0,
              "ticks": ""
             }
            },
            "type": "scatterpolar"
           }
          ],
          "scatterpolargl": [
           {
            "marker": {
             "colorbar": {
              "outlinewidth": 0,
              "ticks": ""
             }
            },
            "type": "scatterpolargl"
           }
          ],
          "scatterternary": [
           {
            "marker": {
             "colorbar": {
              "outlinewidth": 0,
              "ticks": ""
             }
            },
            "type": "scatterternary"
           }
          ],
          "surface": [
           {
            "colorbar": {
             "outlinewidth": 0,
             "ticks": ""
            },
            "colorscale": [
             [
              0,
              "#0d0887"
             ],
             [
              0.1111111111111111,
              "#46039f"
             ],
             [
              0.2222222222222222,
              "#7201a8"
             ],
             [
              0.3333333333333333,
              "#9c179e"
             ],
             [
              0.4444444444444444,
              "#bd3786"
             ],
             [
              0.5555555555555556,
              "#d8576b"
             ],
             [
              0.6666666666666666,
              "#ed7953"
             ],
             [
              0.7777777777777778,
              "#fb9f3a"
             ],
             [
              0.8888888888888888,
              "#fdca26"
             ],
             [
              1,
              "#f0f921"
             ]
            ],
            "type": "surface"
           }
          ],
          "table": [
           {
            "cells": {
             "fill": {
              "color": "#EBF0F8"
             },
             "line": {
              "color": "white"
             }
            },
            "header": {
             "fill": {
              "color": "#C8D4E3"
             },
             "line": {
              "color": "white"
             }
            },
            "type": "table"
           }
          ]
         },
         "layout": {
          "annotationdefaults": {
           "arrowcolor": "#2a3f5f",
           "arrowhead": 0,
           "arrowwidth": 1
          },
          "autotypenumbers": "strict",
          "coloraxis": {
           "colorbar": {
            "outlinewidth": 0,
            "ticks": ""
           }
          },
          "colorscale": {
           "diverging": [
            [
             0,
             "#8e0152"
            ],
            [
             0.1,
             "#c51b7d"
            ],
            [
             0.2,
             "#de77ae"
            ],
            [
             0.3,
             "#f1b6da"
            ],
            [
             0.4,
             "#fde0ef"
            ],
            [
             0.5,
             "#f7f7f7"
            ],
            [
             0.6,
             "#e6f5d0"
            ],
            [
             0.7,
             "#b8e186"
            ],
            [
             0.8,
             "#7fbc41"
            ],
            [
             0.9,
             "#4d9221"
            ],
            [
             1,
             "#276419"
            ]
           ],
           "sequential": [
            [
             0,
             "#0d0887"
            ],
            [
             0.1111111111111111,
             "#46039f"
            ],
            [
             0.2222222222222222,
             "#7201a8"
            ],
            [
             0.3333333333333333,
             "#9c179e"
            ],
            [
             0.4444444444444444,
             "#bd3786"
            ],
            [
             0.5555555555555556,
             "#d8576b"
            ],
            [
             0.6666666666666666,
             "#ed7953"
            ],
            [
             0.7777777777777778,
             "#fb9f3a"
            ],
            [
             0.8888888888888888,
             "#fdca26"
            ],
            [
             1,
             "#f0f921"
            ]
           ],
           "sequentialminus": [
            [
             0,
             "#0d0887"
            ],
            [
             0.1111111111111111,
             "#46039f"
            ],
            [
             0.2222222222222222,
             "#7201a8"
            ],
            [
             0.3333333333333333,
             "#9c179e"
            ],
            [
             0.4444444444444444,
             "#bd3786"
            ],
            [
             0.5555555555555556,
             "#d8576b"
            ],
            [
             0.6666666666666666,
             "#ed7953"
            ],
            [
             0.7777777777777778,
             "#fb9f3a"
            ],
            [
             0.8888888888888888,
             "#fdca26"
            ],
            [
             1,
             "#f0f921"
            ]
           ]
          },
          "colorway": [
           "#636efa",
           "#EF553B",
           "#00cc96",
           "#ab63fa",
           "#FFA15A",
           "#19d3f3",
           "#FF6692",
           "#B6E880",
           "#FF97FF",
           "#FECB52"
          ],
          "font": {
           "color": "#2a3f5f"
          },
          "geo": {
           "bgcolor": "white",
           "lakecolor": "white",
           "landcolor": "#E5ECF6",
           "showlakes": true,
           "showland": true,
           "subunitcolor": "white"
          },
          "hoverlabel": {
           "align": "left"
          },
          "hovermode": "closest",
          "mapbox": {
           "style": "light"
          },
          "paper_bgcolor": "white",
          "plot_bgcolor": "#E5ECF6",
          "polar": {
           "angularaxis": {
            "gridcolor": "white",
            "linecolor": "white",
            "ticks": ""
           },
           "bgcolor": "#E5ECF6",
           "radialaxis": {
            "gridcolor": "white",
            "linecolor": "white",
            "ticks": ""
           }
          },
          "scene": {
           "xaxis": {
            "backgroundcolor": "#E5ECF6",
            "gridcolor": "white",
            "gridwidth": 2,
            "linecolor": "white",
            "showbackground": true,
            "ticks": "",
            "zerolinecolor": "white"
           },
           "yaxis": {
            "backgroundcolor": "#E5ECF6",
            "gridcolor": "white",
            "gridwidth": 2,
            "linecolor": "white",
            "showbackground": true,
            "ticks": "",
            "zerolinecolor": "white"
           },
           "zaxis": {
            "backgroundcolor": "#E5ECF6",
            "gridcolor": "white",
            "gridwidth": 2,
            "linecolor": "white",
            "showbackground": true,
            "ticks": "",
            "zerolinecolor": "white"
           }
          },
          "shapedefaults": {
           "line": {
            "color": "#2a3f5f"
           }
          },
          "ternary": {
           "aaxis": {
            "gridcolor": "white",
            "linecolor": "white",
            "ticks": ""
           },
           "baxis": {
            "gridcolor": "white",
            "linecolor": "white",
            "ticks": ""
           },
           "bgcolor": "#E5ECF6",
           "caxis": {
            "gridcolor": "white",
            "linecolor": "white",
            "ticks": ""
           }
          },
          "title": {
           "x": 0.05
          },
          "xaxis": {
           "automargin": true,
           "gridcolor": "white",
           "linecolor": "white",
           "ticks": "",
           "title": {
            "standoff": 15
           },
           "zerolinecolor": "white",
           "zerolinewidth": 2
          },
          "yaxis": {
           "automargin": true,
           "gridcolor": "white",
           "linecolor": "white",
           "ticks": "",
           "title": {
            "standoff": 15
           },
           "zerolinecolor": "white",
           "zerolinewidth": 2
          }
         }
        },
        "title": {
         "x": 0.5
        },
        "width": 1300
       }
      }
     },
     "metadata": {},
     "output_type": "display_data"
    }
   ],
   "source": [
    "df = data.iloc[:, :24].copy()\n",
    "\n",
    "def plot_pie_chart(nm):\n",
    "    sum_counts = df.loc[nm]\n",
    "    mx = np.sort(sum_counts)\n",
    "    fig = go.Figure()\n",
    "    pull = [0]*len(sum_counts)\n",
    "    pull[sum_counts.tolist().index(mx[-1])] = 0.25\n",
    "    pull[sum_counts.tolist().index(mx[-2])] = 0.15\n",
    "    pull[sum_counts.tolist().index(mx[-3])] = 0.1\n",
    "    fig.add_trace(go.Pie(values=sum_counts, labels=sum_counts.index, pull=pull, hole=0.9, sort=False))\n",
    "\n",
    "    fig.update_layout(\n",
    "        title_x=0.5,\n",
    "        margin=dict(l=0, r=0, t=30, b=0),\n",
    "        legend_orientation=\"h\",\n",
    "        annotations=[dict(text=f'Статистика по пользователю {nm}', x=0.5, y=0.5, font_size=15, showarrow=False)],\n",
    "        height=1000,\n",
    "        width=1300\n",
    "    )\n",
    "    clear_output()\n",
    "    display(text_box)\n",
    "    fig.show()\n",
    "\n",
    "# Создаем текстовое поле для ввода переменной nm\n",
    "text_box = widgets.Text(\n",
    "    description='Введите имя:',\n",
    "    disabled=False,\n",
    ")\n",
    "\n",
    "# Функция, которая будет вызываться при нажатии клавиши Enter\n",
    "def on_text_entered(text_box):\n",
    "    nm = text_box.value\n",
    "    plot_pie_chart(nm)\n",
    "\n",
    "# Создаем экземпляр Textbox и связываем его с функцией on_text_entered, которая будет вызываться при нажатии клавиши Enter\n",
    "text_box.on_submit(on_text_entered)\n",
    "\n",
    "# Отображаем текстовое поле на экране\n",
    "display(text_box)"
   ]
  },
  {
   "cell_type": "code",
   "execution_count": 7,
   "metadata": {},
   "outputs": [
    {
     "data": {
      "text/html": [
       "<div>\n",
       "<style scoped>\n",
       "    .dataframe tbody tr th:only-of-type {\n",
       "        vertical-align: middle;\n",
       "    }\n",
       "\n",
       "    .dataframe tbody tr th {\n",
       "        vertical-align: top;\n",
       "    }\n",
       "\n",
       "    .dataframe thead th {\n",
       "        text-align: right;\n",
       "    }\n",
       "</style>\n",
       "<table border=\"1\" class=\"dataframe\">\n",
       "  <thead>\n",
       "    <tr style=\"text-align: right;\">\n",
       "      <th></th>\n",
       "      <th>Свежие продукты питания</th>\n",
       "      <th>Ювелирные изделия</th>\n",
       "      <th>Товары для дома</th>\n",
       "      <th>Entertainment certificates</th>\n",
       "      <th>Charity</th>\n",
       "      <th>Автотовары</th>\n",
       "      <th>Крупная бытовая техника</th>\n",
       "      <th>Товары для животных</th>\n",
       "      <th>DIY</th>\n",
       "      <th>NewBorn</th>\n",
       "      <th>...</th>\n",
       "      <th>Товары для мам и детей</th>\n",
       "      <th>Одежда</th>\n",
       "      <th>Товары повседневного спроса</th>\n",
       "      <th>Продукты питания</th>\n",
       "      <th>Малая бытовая техника</th>\n",
       "      <th>Книги</th>\n",
       "      <th>ТВ и аудио</th>\n",
       "      <th>Аптека</th>\n",
       "      <th>Спорт и отдых</th>\n",
       "      <th>Красота и здоровье</th>\n",
       "    </tr>\n",
       "    <tr>\n",
       "      <th>Name</th>\n",
       "      <th></th>\n",
       "      <th></th>\n",
       "      <th></th>\n",
       "      <th></th>\n",
       "      <th></th>\n",
       "      <th></th>\n",
       "      <th></th>\n",
       "      <th></th>\n",
       "      <th></th>\n",
       "      <th></th>\n",
       "      <th></th>\n",
       "      <th></th>\n",
       "      <th></th>\n",
       "      <th></th>\n",
       "      <th></th>\n",
       "      <th></th>\n",
       "      <th></th>\n",
       "      <th></th>\n",
       "      <th></th>\n",
       "      <th></th>\n",
       "      <th></th>\n",
       "    </tr>\n",
       "  </thead>\n",
       "  <tbody>\n",
       "    <tr>\n",
       "      <th>Абакелия Мукас Робертовна</th>\n",
       "      <td>11.738377</td>\n",
       "      <td>9.366097</td>\n",
       "      <td>8.533210</td>\n",
       "      <td>11.434790</td>\n",
       "      <td>12.639424</td>\n",
       "      <td>8.117991</td>\n",
       "      <td>12.520057</td>\n",
       "      <td>7.260799</td>\n",
       "      <td>8.202822</td>\n",
       "      <td>7.748003</td>\n",
       "      <td>...</td>\n",
       "      <td>7.182072</td>\n",
       "      <td>7.544563</td>\n",
       "      <td>9.492006</td>\n",
       "      <td>11.896472</td>\n",
       "      <td>10.394852</td>\n",
       "      <td>10.505954</td>\n",
       "      <td>9.065236</td>\n",
       "      <td>7.373106</td>\n",
       "      <td>6.982916</td>\n",
       "      <td>8.505019</td>\n",
       "    </tr>\n",
       "    <tr>\n",
       "      <th>Абакумов Геннадий Николаевич</th>\n",
       "      <td>11.149660</td>\n",
       "      <td>8.482357</td>\n",
       "      <td>8.396680</td>\n",
       "      <td>11.661532</td>\n",
       "      <td>12.053114</td>\n",
       "      <td>8.182738</td>\n",
       "      <td>11.368045</td>\n",
       "      <td>8.101865</td>\n",
       "      <td>8.195827</td>\n",
       "      <td>7.954131</td>\n",
       "      <td>...</td>\n",
       "      <td>6.931331</td>\n",
       "      <td>7.190888</td>\n",
       "      <td>9.355747</td>\n",
       "      <td>10.856840</td>\n",
       "      <td>9.851106</td>\n",
       "      <td>9.966881</td>\n",
       "      <td>9.211610</td>\n",
       "      <td>7.088260</td>\n",
       "      <td>7.303533</td>\n",
       "      <td>7.653311</td>\n",
       "    </tr>\n",
       "    <tr>\n",
       "      <th>Абакумова Анна Ефимовна</th>\n",
       "      <td>12.295290</td>\n",
       "      <td>10.055950</td>\n",
       "      <td>7.709215</td>\n",
       "      <td>12.349491</td>\n",
       "      <td>13.077747</td>\n",
       "      <td>8.519625</td>\n",
       "      <td>12.472703</td>\n",
       "      <td>7.998221</td>\n",
       "      <td>7.972781</td>\n",
       "      <td>7.837850</td>\n",
       "      <td>...</td>\n",
       "      <td>7.477504</td>\n",
       "      <td>8.124704</td>\n",
       "      <td>9.540855</td>\n",
       "      <td>12.192337</td>\n",
       "      <td>10.318149</td>\n",
       "      <td>11.590483</td>\n",
       "      <td>8.962449</td>\n",
       "      <td>7.679380</td>\n",
       "      <td>7.055805</td>\n",
       "      <td>8.226442</td>\n",
       "    </tr>\n",
       "    <tr>\n",
       "      <th>Абакумова Евгения Александровна</th>\n",
       "      <td>10.638607</td>\n",
       "      <td>10.078779</td>\n",
       "      <td>7.604977</td>\n",
       "      <td>11.358683</td>\n",
       "      <td>12.445655</td>\n",
       "      <td>7.995968</td>\n",
       "      <td>10.697442</td>\n",
       "      <td>7.232440</td>\n",
       "      <td>8.155302</td>\n",
       "      <td>7.076545</td>\n",
       "      <td>...</td>\n",
       "      <td>6.335551</td>\n",
       "      <td>7.769094</td>\n",
       "      <td>8.822031</td>\n",
       "      <td>11.173613</td>\n",
       "      <td>9.710372</td>\n",
       "      <td>9.124276</td>\n",
       "      <td>8.605865</td>\n",
       "      <td>7.378442</td>\n",
       "      <td>6.905600</td>\n",
       "      <td>7.698620</td>\n",
       "    </tr>\n",
       "    <tr>\n",
       "      <th>Абалкина Мария Егоровна</th>\n",
       "      <td>12.187252</td>\n",
       "      <td>9.018610</td>\n",
       "      <td>8.749717</td>\n",
       "      <td>10.663217</td>\n",
       "      <td>11.870857</td>\n",
       "      <td>8.723648</td>\n",
       "      <td>11.947526</td>\n",
       "      <td>7.173336</td>\n",
       "      <td>7.230455</td>\n",
       "      <td>8.257886</td>\n",
       "      <td>...</td>\n",
       "      <td>7.297474</td>\n",
       "      <td>7.547172</td>\n",
       "      <td>9.469151</td>\n",
       "      <td>11.402588</td>\n",
       "      <td>9.875444</td>\n",
       "      <td>11.005772</td>\n",
       "      <td>8.418528</td>\n",
       "      <td>6.860008</td>\n",
       "      <td>6.624671</td>\n",
       "      <td>7.846564</td>\n",
       "    </tr>\n",
       "    <tr>\n",
       "      <th>...</th>\n",
       "      <td>...</td>\n",
       "      <td>...</td>\n",
       "      <td>...</td>\n",
       "      <td>...</td>\n",
       "      <td>...</td>\n",
       "      <td>...</td>\n",
       "      <td>...</td>\n",
       "      <td>...</td>\n",
       "      <td>...</td>\n",
       "      <td>...</td>\n",
       "      <td>...</td>\n",
       "      <td>...</td>\n",
       "      <td>...</td>\n",
       "      <td>...</td>\n",
       "      <td>...</td>\n",
       "      <td>...</td>\n",
       "      <td>...</td>\n",
       "      <td>...</td>\n",
       "      <td>...</td>\n",
       "      <td>...</td>\n",
       "      <td>...</td>\n",
       "    </tr>\n",
       "    <tr>\n",
       "      <th>Яшина Марина Владимировна</th>\n",
       "      <td>11.212699</td>\n",
       "      <td>9.712481</td>\n",
       "      <td>8.344623</td>\n",
       "      <td>11.409198</td>\n",
       "      <td>12.929781</td>\n",
       "      <td>7.822716</td>\n",
       "      <td>11.161887</td>\n",
       "      <td>7.631590</td>\n",
       "      <td>7.873966</td>\n",
       "      <td>7.622589</td>\n",
       "      <td>...</td>\n",
       "      <td>6.825341</td>\n",
       "      <td>8.106432</td>\n",
       "      <td>8.858038</td>\n",
       "      <td>11.784696</td>\n",
       "      <td>9.950256</td>\n",
       "      <td>10.355871</td>\n",
       "      <td>8.742957</td>\n",
       "      <td>7.889153</td>\n",
       "      <td>6.610146</td>\n",
       "      <td>8.055654</td>\n",
       "    </tr>\n",
       "    <tr>\n",
       "      <th>Яшина Юлия Александровна</th>\n",
       "      <td>11.692322</td>\n",
       "      <td>9.288435</td>\n",
       "      <td>8.990335</td>\n",
       "      <td>10.923041</td>\n",
       "      <td>13.434611</td>\n",
       "      <td>8.147182</td>\n",
       "      <td>12.319514</td>\n",
       "      <td>7.835769</td>\n",
       "      <td>8.155081</td>\n",
       "      <td>8.961463</td>\n",
       "      <td>...</td>\n",
       "      <td>7.422830</td>\n",
       "      <td>8.535333</td>\n",
       "      <td>9.797840</td>\n",
       "      <td>12.237369</td>\n",
       "      <td>10.375181</td>\n",
       "      <td>10.712939</td>\n",
       "      <td>9.243172</td>\n",
       "      <td>7.438939</td>\n",
       "      <td>7.295083</td>\n",
       "      <td>8.645456</td>\n",
       "    </tr>\n",
       "    <tr>\n",
       "      <th>Яшкин Константин Александрович</th>\n",
       "      <td>11.787244</td>\n",
       "      <td>8.493909</td>\n",
       "      <td>7.825512</td>\n",
       "      <td>10.933541</td>\n",
       "      <td>12.659922</td>\n",
       "      <td>8.531915</td>\n",
       "      <td>11.103530</td>\n",
       "      <td>7.936089</td>\n",
       "      <td>8.041557</td>\n",
       "      <td>7.553889</td>\n",
       "      <td>...</td>\n",
       "      <td>6.743842</td>\n",
       "      <td>7.902981</td>\n",
       "      <td>8.976969</td>\n",
       "      <td>10.591951</td>\n",
       "      <td>9.301496</td>\n",
       "      <td>10.158985</td>\n",
       "      <td>8.876257</td>\n",
       "      <td>7.175984</td>\n",
       "      <td>6.837639</td>\n",
       "      <td>7.988251</td>\n",
       "    </tr>\n",
       "    <tr>\n",
       "      <th>Яшкова Надежда Алексеевна</th>\n",
       "      <td>11.169996</td>\n",
       "      <td>8.886738</td>\n",
       "      <td>7.635179</td>\n",
       "      <td>10.935867</td>\n",
       "      <td>12.556181</td>\n",
       "      <td>8.300700</td>\n",
       "      <td>10.884140</td>\n",
       "      <td>8.054801</td>\n",
       "      <td>8.473009</td>\n",
       "      <td>7.690623</td>\n",
       "      <td>...</td>\n",
       "      <td>6.909252</td>\n",
       "      <td>8.033077</td>\n",
       "      <td>8.709520</td>\n",
       "      <td>11.257866</td>\n",
       "      <td>9.619317</td>\n",
       "      <td>9.600849</td>\n",
       "      <td>8.825288</td>\n",
       "      <td>7.737727</td>\n",
       "      <td>6.958162</td>\n",
       "      <td>7.752789</td>\n",
       "    </tr>\n",
       "    <tr>\n",
       "      <th>Василий Александрович Пупкин</th>\n",
       "      <td>0.126781</td>\n",
       "      <td>0.194228</td>\n",
       "      <td>0.145928</td>\n",
       "      <td>0.214903</td>\n",
       "      <td>0.383045</td>\n",
       "      <td>0.110111</td>\n",
       "      <td>0.191467</td>\n",
       "      <td>0.196052</td>\n",
       "      <td>0.172697</td>\n",
       "      <td>0.149819</td>\n",
       "      <td>...</td>\n",
       "      <td>0.186291</td>\n",
       "      <td>0.348516</td>\n",
       "      <td>0.217856</td>\n",
       "      <td>0.175303</td>\n",
       "      <td>0.080281</td>\n",
       "      <td>0.182411</td>\n",
       "      <td>0.097488</td>\n",
       "      <td>0.230324</td>\n",
       "      <td>0.271098</td>\n",
       "      <td>0.222433</td>\n",
       "    </tr>\n",
       "  </tbody>\n",
       "</table>\n",
       "<p>9973 rows × 24 columns</p>\n",
       "</div>"
      ],
      "text/plain": [
       "                                 Свежие продукты питания  Ювелирные изделия  \\\n",
       "Name                                                                          \n",
       "Абакелия Мукас Робертовна                      11.738377           9.366097   \n",
       "Абакумов Геннадий Николаевич                   11.149660           8.482357   \n",
       "Абакумова Анна Ефимовна                        12.295290          10.055950   \n",
       "Абакумова Евгения Александровна                10.638607          10.078779   \n",
       "Абалкина Мария Егоровна                        12.187252           9.018610   \n",
       "...                                                  ...                ...   \n",
       "Яшина Марина Владимировна                      11.212699           9.712481   \n",
       "Яшина Юлия Александровна                       11.692322           9.288435   \n",
       "Яшкин Константин Александрович                 11.787244           8.493909   \n",
       "Яшкова Надежда Алексеевна                      11.169996           8.886738   \n",
       "Василий Александрович Пупкин                    0.126781           0.194228   \n",
       "\n",
       "                                 Товары для дома  Entertainment certificates  \\\n",
       "Name                                                                           \n",
       "Абакелия Мукас Робертовна               8.533210                   11.434790   \n",
       "Абакумов Геннадий Николаевич            8.396680                   11.661532   \n",
       "Абакумова Анна Ефимовна                 7.709215                   12.349491   \n",
       "Абакумова Евгения Александровна         7.604977                   11.358683   \n",
       "Абалкина Мария Егоровна                 8.749717                   10.663217   \n",
       "...                                          ...                         ...   \n",
       "Яшина Марина Владимировна               8.344623                   11.409198   \n",
       "Яшина Юлия Александровна                8.990335                   10.923041   \n",
       "Яшкин Константин Александрович          7.825512                   10.933541   \n",
       "Яшкова Надежда Алексеевна               7.635179                   10.935867   \n",
       "Василий Александрович Пупкин            0.145928                    0.214903   \n",
       "\n",
       "                                   Charity  Автотовары  \\\n",
       "Name                                                     \n",
       "Абакелия Мукас Робертовна        12.639424    8.117991   \n",
       "Абакумов Геннадий Николаевич     12.053114    8.182738   \n",
       "Абакумова Анна Ефимовна          13.077747    8.519625   \n",
       "Абакумова Евгения Александровна  12.445655    7.995968   \n",
       "Абалкина Мария Егоровна          11.870857    8.723648   \n",
       "...                                    ...         ...   \n",
       "Яшина Марина Владимировна        12.929781    7.822716   \n",
       "Яшина Юлия Александровна         13.434611    8.147182   \n",
       "Яшкин Константин Александрович   12.659922    8.531915   \n",
       "Яшкова Надежда Алексеевна        12.556181    8.300700   \n",
       "Василий Александрович Пупкин      0.383045    0.110111   \n",
       "\n",
       "                                 Крупная бытовая техника  Товары для животных  \\\n",
       "Name                                                                            \n",
       "Абакелия Мукас Робертовна                      12.520057             7.260799   \n",
       "Абакумов Геннадий Николаевич                   11.368045             8.101865   \n",
       "Абакумова Анна Ефимовна                        12.472703             7.998221   \n",
       "Абакумова Евгения Александровна                10.697442             7.232440   \n",
       "Абалкина Мария Егоровна                        11.947526             7.173336   \n",
       "...                                                  ...                  ...   \n",
       "Яшина Марина Владимировна                      11.161887             7.631590   \n",
       "Яшина Юлия Александровна                       12.319514             7.835769   \n",
       "Яшкин Константин Александрович                 11.103530             7.936089   \n",
       "Яшкова Надежда Алексеевна                      10.884140             8.054801   \n",
       "Василий Александрович Пупкин                    0.191467             0.196052   \n",
       "\n",
       "                                      DIY   NewBorn  ...  \\\n",
       "Name                                                 ...   \n",
       "Абакелия Мукас Робертовна        8.202822  7.748003  ...   \n",
       "Абакумов Геннадий Николаевич     8.195827  7.954131  ...   \n",
       "Абакумова Анна Ефимовна          7.972781  7.837850  ...   \n",
       "Абакумова Евгения Александровна  8.155302  7.076545  ...   \n",
       "Абалкина Мария Егоровна          7.230455  8.257886  ...   \n",
       "...                                   ...       ...  ...   \n",
       "Яшина Марина Владимировна        7.873966  7.622589  ...   \n",
       "Яшина Юлия Александровна         8.155081  8.961463  ...   \n",
       "Яшкин Константин Александрович   8.041557  7.553889  ...   \n",
       "Яшкова Надежда Алексеевна        8.473009  7.690623  ...   \n",
       "Василий Александрович Пупкин     0.172697  0.149819  ...   \n",
       "\n",
       "                                 Товары для мам и детей    Одежда  \\\n",
       "Name                                                                \n",
       "Абакелия Мукас Робертовна                      7.182072  7.544563   \n",
       "Абакумов Геннадий Николаевич                   6.931331  7.190888   \n",
       "Абакумова Анна Ефимовна                        7.477504  8.124704   \n",
       "Абакумова Евгения Александровна                6.335551  7.769094   \n",
       "Абалкина Мария Егоровна                        7.297474  7.547172   \n",
       "...                                                 ...       ...   \n",
       "Яшина Марина Владимировна                      6.825341  8.106432   \n",
       "Яшина Юлия Александровна                       7.422830  8.535333   \n",
       "Яшкин Константин Александрович                 6.743842  7.902981   \n",
       "Яшкова Надежда Алексеевна                      6.909252  8.033077   \n",
       "Василий Александрович Пупкин                   0.186291  0.348516   \n",
       "\n",
       "                                 Товары повседневного спроса  \\\n",
       "Name                                                           \n",
       "Абакелия Мукас Робертовна                           9.492006   \n",
       "Абакумов Геннадий Николаевич                        9.355747   \n",
       "Абакумова Анна Ефимовна                             9.540855   \n",
       "Абакумова Евгения Александровна                     8.822031   \n",
       "Абалкина Мария Егоровна                             9.469151   \n",
       "...                                                      ...   \n",
       "Яшина Марина Владимировна                           8.858038   \n",
       "Яшина Юлия Александровна                            9.797840   \n",
       "Яшкин Константин Александрович                      8.976969   \n",
       "Яшкова Надежда Алексеевна                           8.709520   \n",
       "Василий Александрович Пупкин                        0.217856   \n",
       "\n",
       "                                 Продукты питания  Малая бытовая техника  \\\n",
       "Name                                                                       \n",
       "Абакелия Мукас Робертовна               11.896472              10.394852   \n",
       "Абакумов Геннадий Николаевич            10.856840               9.851106   \n",
       "Абакумова Анна Ефимовна                 12.192337              10.318149   \n",
       "Абакумова Евгения Александровна         11.173613               9.710372   \n",
       "Абалкина Мария Егоровна                 11.402588               9.875444   \n",
       "...                                           ...                    ...   \n",
       "Яшина Марина Владимировна               11.784696               9.950256   \n",
       "Яшина Юлия Александровна                12.237369              10.375181   \n",
       "Яшкин Константин Александрович          10.591951               9.301496   \n",
       "Яшкова Надежда Алексеевна               11.257866               9.619317   \n",
       "Василий Александрович Пупкин             0.175303               0.080281   \n",
       "\n",
       "                                     Книги  ТВ и аудио    Аптека  \\\n",
       "Name                                                               \n",
       "Абакелия Мукас Робертовна        10.505954    9.065236  7.373106   \n",
       "Абакумов Геннадий Николаевич      9.966881    9.211610  7.088260   \n",
       "Абакумова Анна Ефимовна          11.590483    8.962449  7.679380   \n",
       "Абакумова Евгения Александровна   9.124276    8.605865  7.378442   \n",
       "Абалкина Мария Егоровна          11.005772    8.418528  6.860008   \n",
       "...                                    ...         ...       ...   \n",
       "Яшина Марина Владимировна        10.355871    8.742957  7.889153   \n",
       "Яшина Юлия Александровна         10.712939    9.243172  7.438939   \n",
       "Яшкин Константин Александрович   10.158985    8.876257  7.175984   \n",
       "Яшкова Надежда Алексеевна         9.600849    8.825288  7.737727   \n",
       "Василий Александрович Пупкин      0.182411    0.097488  0.230324   \n",
       "\n",
       "                                 Спорт и отдых  Красота и здоровье  \n",
       "Name                                                                \n",
       "Абакелия Мукас Робертовна             6.982916            8.505019  \n",
       "Абакумов Геннадий Николаевич          7.303533            7.653311  \n",
       "Абакумова Анна Ефимовна               7.055805            8.226442  \n",
       "Абакумова Евгения Александровна       6.905600            7.698620  \n",
       "Абалкина Мария Егоровна               6.624671            7.846564  \n",
       "...                                        ...                 ...  \n",
       "Яшина Марина Владимировна             6.610146            8.055654  \n",
       "Яшина Юлия Александровна              7.295083            8.645456  \n",
       "Яшкин Константин Александрович        6.837639            7.988251  \n",
       "Яшкова Надежда Алексеевна             6.958162            7.752789  \n",
       "Василий Александрович Пупкин          0.271098            0.222433  \n",
       "\n",
       "[9973 rows x 24 columns]"
      ]
     },
     "execution_count": 7,
     "metadata": {},
     "output_type": "execute_result"
    }
   ],
   "source": [
    "df"
   ]
  }
 ],
 "metadata": {
  "kernelspec": {
   "display_name": "Python 3",
   "language": "python",
   "name": "python3"
  },
  "language_info": {
   "codemirror_mode": {
    "name": "ipython",
    "version": 3
   },
   "file_extension": ".py",
   "mimetype": "text/x-python",
   "name": "python",
   "nbconvert_exporter": "python",
   "pygments_lexer": "ipython3",
   "version": "3.10.12"
  },
  "orig_nbformat": 4
 },
 "nbformat": 4,
 "nbformat_minor": 2
}
